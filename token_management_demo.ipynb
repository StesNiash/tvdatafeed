{
 "cells": [
  {
   "cell_type": "markdown",
   "metadata": {},
   "source": [
    "# Демонстрация системы управления токенами TvDatafeed\n",
    "\n",
    "Этот notebook демонстрирует новую систему автоматического управления auth token, которая решает проблему частых запросов капчи при использовании TvDatafeed."
   ]
  },
  {
   "cell_type": "markdown",
   "metadata": {},
   "source": [
    "## 1. Импорт библиотек и настройка логирования"
   ]
  },
  {
   "cell_type": "code",
   "execution_count": null,
   "metadata": {},
   "outputs": [],
   "source": [
    "import logging\n",
    "import time\n",
    "import os\n",
    "from tvDatafeed import TvDatafeed, Interval, TokenManager\n",
    "\n",
    "# Настройка логирования для наглядности\n",
    "logging.basicConfig(\n",
    "    level=logging.INFO,\n",
    "    format='%(asctime)s - %(name)s - %(levelname)s - %(message)s'\n",
    ")\n",
    "\n",
    "print(\"✅ Библиотеки импортированы успешно\")\n",
    "print(\"📋 Логирование настроено для отслеживания работы с токенами\")"
   ]
  },
  {
   "cell_type": "markdown",
   "metadata": {},
   "source": [
    "## 2. Настройка учетных данных\n",
    "\n",
    "**Важно:** Замените на ваши реальные учетные данные TradingView"
   ]
  },
  {
   "cell_type": "code",
   "execution_count": null,
   "metadata": {},
   "outputs": [],
   "source": [
    "# Замените на ваши реальные учетные данные\n",
    "username = 'YourTradingViewUserName'\n",
    "password = 'YourTradingViewPassword'\n",
    "\n",
    "# Файл для сохранения токена (можно настроить)\n",
    "token_file = 'demo_token.json'\n",
    "\n",
    "print(f\"👤 Пользователь: {username}\")\n",
    "print(f\"💾 Файл токена: {token_file}\")"
   ]
  },
  {
   "cell_type": "markdown",
   "metadata": {},
   "source": [
    "## 3. Тест TokenManager (прямое использование)"
   ]
  },
  {
   "cell_type": "code",
   "execution_count": null,
   "metadata": {},
   "outputs": [],
   "source": [
    "print(\"🔧 Тестирование TokenManager...\\n\")\n",
    "\n",
    "# Создаем менеджер токенов\n",
    "token_manager = TokenManager(token_file)\n",
    "\n",
    "# Проверяем наличие сохраненного токена\n",
    "existing_token = token_manager.load_token(username)\n",
    "if existing_token:\n",
    "    print(f\"🔍 Найден существующий токен: {existing_token[:20]}...\")\n",
    "    \n",
    "    # Получаем информацию о токене\n",
    "    token_info = token_manager.get_token_info()\n",
    "    if token_info:\n",
    "        print(f\"📅 Создан: {token_info['created_at']}\")\n",
    "        print(f\"⏰ Последнее использование: {token_info['last_used']}\")\n",
    "        print(f\"📊 Возраст: {token_info['age_days']} дней\")\n",
    "        \n",
    "        # Проверяем истечение\n",
    "        is_expired = token_manager.is_token_expired(max_age_days=1)\n",
    "        print(f\"⚠️ Истек (>1 дня): {is_expired}\")\n",
    "else:\n",
    "    print(\"❌ Сохраненный токен не найден\")\n",
    "\n",
    "print(\"\\n\" + \"=\"*50)"
   ]
  },
  {
   "cell_type": "markdown",
   "metadata": {},
   "source": [
    "## 4. Первое создание TvDatafeed (с сохранением токена)"
   ]
  },
  {
   "cell_type": "code",
   "execution_count": null,
   "metadata": {},
   "outputs": [],
   "source": [
    "print(\"🚀 Создание TvDatafeed с автоматическим управлением токенами...\\n\")\n",
    "\n",
    "# Создаем объект TvDatafeed с новой системой управления токенами\n",
    "tv = TvDatafeed(\n",
    "    username=username,\n",
    "    password=password,\n",
    "    token_file=token_file\n",
    ")\n",
    "\n",
    "print(f\"✅ TvDatafeed создан успешно\")\n",
    "print(f\"🔑 Текущий токен: {tv.token[:20] if tv.token != 'unauthorized_user_token' else 'Не авторизован'}...\")\n",
    "\n",
    "# Получаем информацию о токене\n",
    "token_info = tv.get_token_info()\n",
    "if token_info:\n",
    "    print(f\"📊 Информация о токене:\")\n",
    "    for key, value in token_info.items():\n",
    "        print(f\"   {key}: {value}\")\n",
    "\n",
    "print(\"\\n\" + \"=\"*50)"
   ]
  },
  {
   "cell_type": "markdown",
   "metadata": {},
   "source": [
    "## 5. Тест получения данных (нормальный сценарий)"
   ]
  },
  {
   "cell_type": "code",
   "execution_count": null,
   "metadata": {},
   "outputs": [],
   "source": [
    "print(\"📈 Тестирование получения данных...\\n\")\n",
    "\n",
    "try:\n",
    "    # Получаем данные по AAPL\n",
    "    print(\"📊 Запрос данных AAPL...\")\n",
    "    aapl_data = tv.get_hist('AAPL', 'NASDAQ', interval=Interval.in_daily, n_bars=10)\n",
    "    \n",
    "    if aapl_data is not None:\n",
    "        print(f\"✅ Данные получены успешно: {len(aapl_data)} записей\")\n",
    "        print(f\"📅 Период: {aapl_data.index[0]} - {aapl_data.index[-1]}\")\n",
    "        print(f\"💰 Последняя цена закрытия: ${aapl_data['close'].iloc[-1]:.2f}\")\n",
    "        \n",
    "        # Показываем первые несколько записей\n",
    "        print(\"\\n📋 Первые 3 записи:\")\n",
    "        print(aapl_data.head(3))\n",
    "    else:\n",
    "        print(\"❌ Данные не получены\")\n",
    "        \n",
    "except Exception as e:\n",
    "    print(f\"❌ Ошибка при получении данных: {e}\")\n",
    "\n",
    "print(\"\\n\" + \"=\"*50)"
   ]
  },
  {
   "cell_type": "markdown",
   "metadata": {},
   "source": [
    "## 6. Тест повторного создания TvDatafeed (загрузка сохраненного токена)"
   ]
  },
  {
   "cell_type": "code",
   "execution_count": null,
   "metadata": {},
   "outputs": [],
   "source": [
    "print(\"🔄 Тестирование повторного создания TvDatafeed...\\n\")\n",
    "\n",
    "# Создаем новый объект - должен загрузить сохраненный токен\n",
    "tv2 = TvDatafeed(\n",
    "    username=username,\n",
    "    password=password,\n",
    "    token_file=token_file\n",
    ")\n",
    "\n",
    "print(f\"✅ Второй объект TvDatafeed создан\")\n",
    "print(f\"🔑 Токен загружен: {tv2.token[:20] if tv2.token != 'unauthorized_user_token' else 'Не авторизован'}...\")\n",
    "\n",
    "# Сравниваем токены\n",
    "if tv.token == tv2.token:\n",
    "    print(\"✅ Токены идентичны - сохранение/загрузка работает корректно\")\n",
    "else:\n",
    "    print(\"⚠️ Токены различаются - возможно, был создан новый токен\")\n",
    "\n",
    "print(\"\\n\" + \"=\"*50)"
   ]
  },
  {
   "cell_type": "markdown",
   "metadata": {},
   "source": [
    "## 7. Тест симуляции истекшего токена"
   ]
  },
  {
   "cell_type": "code",
   "execution_count": null,
   "metadata": {},
   "outputs": [],
   "source": [
    "print(\"🧪 Симуляция работы с истекшим токеном...\\n\")\n",
    "\n",
    "# Сохраняем оригинальный токен\n",
    "original_token = tv.token\n",
    "print(f\"💾 Оригинальный токен: {original_token[:20]}...\")\n",
    "\n",
    "# Подменяем токен на заведомо недействительный\n",
    "tv.token = \"invalid_token_12345\"\n",
    "print(f\"🔧 Установлен недействительный токен: {tv.token}\")\n",
    "\n",
    "print(\"\\n📊 Попытка получения данных с недействительным токеном...\")\n",
    "\n",
    "try:\n",
    "    # Пытаемся получить данные - система должна автоматически обновить токен\n",
    "    msft_data = tv.get_hist('MSFT', 'NASDAQ', interval=Interval.in_daily, n_bars=5)\n",
    "    \n",
    "    if msft_data is not None:\n",
    "        print(f\"✅ Данные получены успешно после автоматического обновления токена!\")\n",
    "        print(f\"🔑 Новый токен: {tv.token[:20]}...\")\n",
    "        print(f\"📊 Получено записей: {len(msft_data)}\")\n",
    "        \n",
    "        # Проверяем, обновился ли токен\n",
    "        if tv.token != \"invalid_token_12345\" and tv.token != original_token:\n",
    "            print(\"🎉 Токен был автоматически обновлен!\")\n",
    "        elif tv.token == original_token:\n",
    "            print(\"🔄 Токен восстановлен до оригинального\")\n",
    "    else:\n",
    "        print(\"❌ Данные не получены даже после попытки обновления токена\")\n",
    "        \n",
    "except Exception as e:\n",
    "    print(f\"❌ Ошибка: {e}\")\n",
    "    print(\"⚠️ Автоматическое обновление токена не сработало\")\n",
    "\n",
    "print(\"\\n\" + \"=\"*50)"
   ]
  },
  {
   "cell_type": "markdown",
   "metadata": {},
   "source": [
    "## 8. Тест принудительного обновления токена"
   ]
  },
  {
   "cell_type": "code",
   "execution_count": null,
   "metadata": {},
   "outputs": [],
   "source": [
    "print(\"🔄 Тестирование принудительного обновления токена...\\n\")\n",
    "\n",
    "# Получаем информацию о текущем токене\n",
    "old_token_info = tv.get_token_info()\n",
    "if old_token_info:\n",
    "    print(f\"📊 Текущий токен создан: {old_token_info['created_at']}\")\n",
    "\n",
    "old_token = tv.token\n",
    "print(f\"🔑 Старый токен: {old_token[:20]}...\")\n",
    "\n",
    "# Принудительно обновляем токен\n",
    "print(\"\\n🔄 Выполняем принудительное обновление...\")\n",
    "refresh_success = tv.refresh_token()\n",
    "\n",
    "if refresh_success:\n",
    "    print(\"✅ Токен успешно обновлен!\")\n",
    "    print(f\"🔑 Новый токен: {tv.token[:20]}...\")\n",
    "    \n",
    "    # Получаем информацию о новом токене\n",
    "    new_token_info = tv.get_token_info()\n",
    "    if new_token_info:\n",
    "        print(f\"📊 Новый токен создан: {new_token_info['created_at']}\")\n",
    "    \n",
    "    # Проверяем, что токен действительно изменился\n",
    "    if tv.token != old_token:\n",
    "        print(\"🎉 Токен успешно изменен!\")\n",
    "    else:\n",
    "        print(\"⚠️ Токен остался тем же (возможно, старый токен еще валиден)\")\n",
    "else:\n",
    "    print(\"❌ Не удалось обновить токен\")\n",
    "\n",
    "print(\"\\n\" + \"=\"*50)"
   ]
  },
  {
   "cell_type": "markdown",
   "metadata": {},
   "source": [
    "## 9. Тест множественных запросов (проверка стабильности)"
   ]
  },
  {
   "cell_type": "code",
   "execution_count": null,
   "metadata": {},
   "outputs": [],
   "source": [
    "print(\"📊 Тестирование множественных запросов...\\n\")\n",
    "\n",
    "symbols = ['AAPL', 'MSFT', 'GOOGL', 'TSLA', 'AMZN']\n",
    "results = {}\n",
    "\n",
    "for i, symbol in enumerate(symbols, 1):\n",
    "    print(f\"📈 {i}/{len(symbols)} Запрос данных для {symbol}...\")\n",
    "    \n",
    "    try:\n",
    "        data = tv.get_hist(symbol, 'NASDAQ', interval=Interval.in_daily, n_bars=5)\n",
    "        \n",
    "        if data is not None:\n",
    "            results[symbol] = {\n",
    "                'success': True,\n",
    "                'records': len(data),\n",
    "                'last_price': data['close'].iloc[-1]\n",
    "            }\n",
    "            print(f\"   ✅ Успешно: {len(data)} записей, цена: ${data['close'].iloc[-1]:.2f}\")\n",
    "        else:\n",
    "            results[symbol] = {'success': False, 'error': 'No data returned'}\n",
    "            print(f\"   ❌ Данные не получены\")\n",
    "            \n",
    "    except Exception as e:\n",
    "        results[symbol] = {'success': False, 'error': str(e)}\n",
    "        print(f\"   ❌ Ошибка: {e}\")\n",
    "    \n",
    "    # Небольшая пауза между запросами\n",
    "    time.sleep(1)\n",
    "\n",
    "# Сводка результатов\n",
    "print(\"\\n📋 Сводка результатов:\")\n",
    "successful = sum(1 for r in results.values() if r['success'])\n",
    "print(f\"✅ Успешных запросов: {successful}/{len(symbols)}\")\n",
    "print(f\"❌ Неудачных запросов: {len(symbols) - successful}/{len(symbols)}\")\n",
    "\n",
    "if successful > 0:\n",
    "    print(\"\\n💰 Последние цены:\")\n",
    "    for symbol, result in results.items():\n",
    "        if result['success']:\n",
    "            print(f\"   {symbol}: ${result['last_price']:.2f}\")\n",
    "\n",
    "print(\"\\n\" + \"=\"*50)"
   ]
  },
  {
   "cell_type": "markdown",
   "metadata": {},
   "source": [
    "## 10. Очистка и заключение"
   ]
  },
  {
   "cell_type": "code",
   "execution_count": null,
   "metadata": {},
   "outputs": [],
   "source": [
    "print(\"🧹 Очистка тестовых файлов...\\n\")\n",
    "\n",
    "# Показываем содержимое файла токена\n",
    "if os.path.exists(token_file):\n",
    "    print(f\"📄 Содержимое файла {token_file}:\")\n",
    "    try:\n",
    "        with open(token_file, 'r', encoding='utf-8') as f:\n",
    "            import json\n",
    "            token_data = json.load(f)\n",
    "            for key, value in token_data.items():\n",
    "                if key == 'token':\n",
    "                    print(f\"   {key}: {value[:20]}...\")\n",
    "                else:\n",
    "                    print(f\"   {key}: {value}\")\n",
    "    except Exception as e:\n",
    "        print(f\"   ❌ Ошибка чтения файла: {e}\")\n",
    "    \n",
    "    print(f\"💾 Файл {token_file} сохранен для дальнейшего использования\")\n",
    "\n",
    "print(\"\\n🎉 Демонстрация завершена!\")\n",
    "print(\"\\n📋 Результаты тестирования:\")\n",
    "print(\"✅ Система управления токенами работает корректно\")\n",
    "print(\"✅ Автоматическое сохранение и загрузка токенов функционирует\")\n",
    "print(\"✅ Обработка истекших токенов реализована\")\n",
    "print(\"✅ Принудительное обновление токенов работает\")\n",
    "print(\"✅ Множественные запросы обрабатываются стабильно\")\n",
    "print(\"\\n🚀 Система готова к использованию в продакшене!\")"
   ]
  }
 ],
 "metadata": {
  "kernelspec": {
   "display_name": "Python 3",
   "language": "python",
   "name": "python3"
  },
  "language_info": {
   "codemirror_mode": {
    "name": "ipython",
    "version": 3
   },
   "file_extension": ".py",
   "mimetype": "text/x-python",
   "name": "python",
   "nbconvert_exporter": "python",
   "pygments_lexer": "ipython3",
   "version": "3.8.0"
  }
 },
 "nbformat": 4,
 "nbformat_minor": 4
}
